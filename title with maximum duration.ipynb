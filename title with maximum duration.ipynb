{
 "cells": [
  {
   "cell_type": "markdown",
   "metadata": {},
   "source": [
    "Out of the first 250 titles with highest number of votes in 2018,find which title has the maximum duration."
   ]
  },
  {
   "cell_type": "code",
   "execution_count": 22,
   "metadata": {
    "scrolled": false
   },
   "outputs": [
    {
     "name": "stdout",
     "output_type": "stream",
     "text": [
      "572 Maze Runner: The Death Cure\n"
     ]
    }
   ],
   "source": [
    "import requests as r\n",
    "from bs4 import BeautifulSoup as b\n",
    "maximum=0\n",
    "response = r.get(\"https://www.imdb.com/search/title/?release_date=2018&sort=num_votes,desc&page=1&ref_=adv_nxt\")\n",
    "html = response.text\n",
    "data = b(html,'html.parser')\n",
    "per_page = len(duration)\n",
    "duration = data.find_all(class_=\"runtime\")\n",
    "for i in range(1,(250//per_page)+1):\n",
    "    response = r.get(\"https://www.imdb.com/search/title/?release_date=2018&sort=num_votes,desc&page=\"+str(i)+\"&ref_=adv_nxt\")\n",
    "    html = response.text\n",
    "    data = b(html,'html.parser')\n",
    "    duration = data.find_all(class_=\"runtime\")\n",
    "    titles = data.find_all(class_=\"loadlate\")\n",
    "    for i in range(per_page):\n",
    "        current_time = int(duration[i].string.split(\" \")[0])\n",
    "        if maximum < current_time:\n",
    "            maximum = current_time\n",
    "            current_tilte = titles[i]['alt']\n",
    "print(maximum,current_title)"
   ]
  },
  {
   "cell_type": "code",
   "execution_count": null,
   "metadata": {},
   "outputs": [],
   "source": []
  }
 ],
 "metadata": {
  "kernelspec": {
   "display_name": "Python 3",
   "language": "python",
   "name": "python3"
  },
  "language_info": {
   "codemirror_mode": {
    "name": "ipython",
    "version": 3
   },
   "file_extension": ".py",
   "mimetype": "text/x-python",
   "name": "python",
   "nbconvert_exporter": "python",
   "pygments_lexer": "ipython3",
   "version": "3.8.3"
  }
 },
 "nbformat": 4,
 "nbformat_minor": 4
}
