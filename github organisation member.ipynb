{
 "cells": [
  {
   "cell_type": "markdown",
   "metadata": {},
   "source": [
    "Fetch all the members of the organisation 'CodingNinjasCodes' from Github API. Print the username of members present in organisation."
   ]
  },
  {
   "cell_type": "code",
   "execution_count": 2,
   "metadata": {},
   "outputs": [
    {
     "name": "stdout",
     "output_type": "stream",
     "text": [
      "aakash-cr7\n",
      "dakshkhetan\n",
      "ManishaKhattar\n",
      "namangupta01\n",
      "nidhiagarwal\n",
      "rohanraarora\n"
     ]
    }
   ],
   "source": [
    "import requests as r\n",
    "import json\n",
    "h={\"Accept\":\"application/vnd.github.v3+json\"}\n",
    "i=1\n",
    "python_data=[1]\n",
    "while(len(python_data)!=0):\n",
    "    parameters={\"per_page\":50,\"page\":i}\n",
    "    response= r.get(\"https://api.github.com/orgs/CodingNinjasCodes/members\",headers=h,params=parameters)\n",
    "    python_data=response.json()\n",
    "    for j in python_data:\n",
    "        print(j[\"login\"])\n",
    "    i+=1"
   ]
  },
  {
   "cell_type": "code",
   "execution_count": null,
   "metadata": {},
   "outputs": [],
   "source": []
  }
 ],
 "metadata": {
  "kernelspec": {
   "display_name": "Python 3",
   "language": "python",
   "name": "python3"
  },
  "language_info": {
   "codemirror_mode": {
    "name": "ipython",
    "version": 3
   },
   "file_extension": ".py",
   "mimetype": "text/x-python",
   "name": "python",
   "nbconvert_exporter": "python",
   "pygments_lexer": "ipython3",
   "version": "3.8.3"
  }
 },
 "nbformat": 4,
 "nbformat_minor": 4
}
