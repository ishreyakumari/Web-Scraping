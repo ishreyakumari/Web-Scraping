{
 "cells": [
  {
   "cell_type": "markdown",
   "metadata": {},
   "source": [
    "Fetch the all repositories(except Forked repository) of organisation ‘CodingNinjasCodes’ from Github API.\n",
    "Print the name of repository with its watch count and fork count."
   ]
  },
  {
   "cell_type": "code",
   "execution_count": 5,
   "metadata": {},
   "outputs": [
    {
     "name": "stdout",
     "output_type": "stream",
     "text": [
      "SmoothScrollJs 16 5\n",
      "RubyTutorial 14 9\n",
      "Python3Tutorial 5 3\n",
      "HTMLandCssNotes 14 24\n",
      "Beacathon 2 8\n",
      "JSNotes 5 7\n",
      "learnml 1 0\n",
      "RubyNotebook 2 5\n",
      "InterQues 72 160\n",
      "coderoom 4 3\n"
     ]
    }
   ],
   "source": [
    "import requests as r\n",
    "import json\n",
    "h={\"Accept\":\"application/vnd.github.v3+json\"}\n",
    "response=r.get(\"https://api.github.com/orgs/CodingNinjasCodes/repos\",headers=h)\n",
    "python_data = response.json()\n",
    "for i in python_data:\n",
    "    if(not(i[\"fork\"])):\n",
    "        print(i[\"name\"],i[\"watchers_count\"],i[\"forks_count\"])"
   ]
  },
  {
   "cell_type": "code",
   "execution_count": null,
   "metadata": {},
   "outputs": [],
   "source": []
  }
 ],
 "metadata": {
  "kernelspec": {
   "display_name": "Python 3",
   "language": "python",
   "name": "python3"
  },
  "language_info": {
   "codemirror_mode": {
    "name": "ipython",
    "version": 3
   },
   "file_extension": ".py",
   "mimetype": "text/x-python",
   "name": "python",
   "nbconvert_exporter": "python",
   "pygments_lexer": "ipython3",
   "version": "3.8.3"
  }
 },
 "nbformat": 4,
 "nbformat_minor": 4
}
