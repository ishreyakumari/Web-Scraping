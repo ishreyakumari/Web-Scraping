{
 "cells": [
  {
   "cell_type": "markdown",
   "metadata": {},
   "source": [
    "Find and print the src of the <img> tag which occupies the maximum area on the page."
   ]
  },
  {
   "cell_type": "code",
   "execution_count": 38,
   "metadata": {},
   "outputs": [
    {
     "name": "stdout",
     "output_type": "stream",
     "text": [
      "//upload.wikimedia.org/wikipedia/commons/thumb/1/13/Joseph_Ayerle_portrait_of_Ornella_Muti_%28detail%29%2C_calculated_by_Artificial_Intelligence_%28AI%29_technology.jpg/220px-Joseph_Ayerle_portrait_of_Ornella_Muti_%28detail%29%2C_calculated_by_Artificial_Intelligence_%28AI%29_technology.jpg\n"
     ]
    }
   ],
   "source": [
    "import requests as r\n",
    "from bs4 import BeautifulSoup as b\n",
    "response = r.get(\"https://en.wikipedia.org/wiki/Artificial_intelligence\")\n",
    "html = response.text\n",
    "data = b(html,'html.parser')\n",
    "maximum = 0\n",
    "tag = \"\"\n",
    "all_images = data.find_all(class_='thumbimage')\n",
    "for i in all_images:\n",
    "    area = int(i['height'])*int(i['width'])\n",
    "    if area > maximum:\n",
    "        maximum = area\n",
    "        tag = i['src']\n",
    "print(tag)"
   ]
  },
  {
   "cell_type": "code",
   "execution_count": null,
   "metadata": {},
   "outputs": [],
   "source": []
  }
 ],
 "metadata": {
  "kernelspec": {
   "display_name": "Python 3",
   "language": "python",
   "name": "python3"
  },
  "language_info": {
   "codemirror_mode": {
    "name": "ipython",
    "version": 3
   },
   "file_extension": ".py",
   "mimetype": "text/x-python",
   "name": "python",
   "nbconvert_exporter": "python",
   "pygments_lexer": "ipython3",
   "version": "3.8.3"
  }
 },
 "nbformat": 4,
 "nbformat_minor": 4
}
