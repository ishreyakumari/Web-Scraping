{
 "cells": [
  {
   "cell_type": "markdown",
   "metadata": {},
   "source": [
    "Find the birth date of authors whose name start with 'J'. Print a dictionary containing the name as key and the birth date as value.The Names of authors should be alphabetically sorted."
   ]
  },
  {
   "cell_type": "code",
   "execution_count": 50,
   "metadata": {},
   "outputs": [
    {
     "name": "stdout",
     "output_type": "stream",
     "text": [
      "{'J.D. Salinger': 'January 01, 1919', 'J.K. Rowling': 'July 31, 1965', 'J.M. Barrie': 'May 09, 1860', 'J.R.R. Tolkien': 'January 03, 1892', 'James Baldwin': 'August 02, 1924', 'Jane Austen': 'December 16, 1775', 'Jim Henson': 'September 24, 1936', 'Jimi Hendrix': 'November 27, 1942', 'John Lennon': 'October 09, 1940', 'Jorge Luis Borges': 'August 24, 1899'}\n"
     ]
    }
   ],
   "source": [
    "import requests as r\n",
    "from bs4 import BeautifulSoup as b\n",
    "quotes=[1]\n",
    "authors=[]\n",
    "author_names = []\n",
    "base_url = \"http://quotes.toscrape.com\"\n",
    "i=1\n",
    "while(len(quotes)!=0):\n",
    "    url= \"http://quotes.toscrape.com/page/\"+str(i)\n",
    "    response = r.get(url)\n",
    "    html = response.text\n",
    "    data = b(html,'html.parser')\n",
    "    quotes = data.find_all(class_='quote')\n",
    "    for j in quotes:\n",
    "        author = j.find(class_='author')\n",
    "        if author.string.startswith(\"J\"):\n",
    "            author_names.append(author.string)\n",
    "            authors.append(base_url+j.a['href'])\n",
    "    i+=1\n",
    "    \n",
    "auth_details={}\n",
    "author_names = dict.fromkeys(author_names,0)\n",
    "author_names = sorted(author_names.keys())\n",
    "authors = dict.fromkeys(authors,0)\n",
    "authors = sorted(authors.keys())\n",
    "for i in range(len(authors)):\n",
    "    response = r.get(authors[i])\n",
    "    html = response.text\n",
    "    data = b(html,'html.parser')\n",
    "    birth_date = data.find(class_='author-born-date')\n",
    "    auth_details[author_names[i]] = birth_date.string\n",
    "print(auth_details)"
   ]
  },
  {
   "cell_type": "code",
   "execution_count": null,
   "metadata": {},
   "outputs": [],
   "source": []
  }
 ],
 "metadata": {
  "kernelspec": {
   "display_name": "Python 3",
   "language": "python",
   "name": "python3"
  },
  "language_info": {
   "codemirror_mode": {
    "name": "ipython",
    "version": 3
   },
   "file_extension": ".py",
   "mimetype": "text/x-python",
   "name": "python",
   "nbconvert_exporter": "python",
   "pygments_lexer": "ipython3",
   "version": "3.8.3"
  }
 },
 "nbformat": 4,
 "nbformat_minor": 4
}
