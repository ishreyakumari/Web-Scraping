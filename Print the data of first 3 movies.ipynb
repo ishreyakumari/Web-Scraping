{
 "cells": [
  {
   "cell_type": "markdown",
   "metadata": {},
   "source": [
    "Find and print the name and genre of the first 3 titles"
   ]
  },
  {
   "cell_type": "code",
   "execution_count": 41,
   "metadata": {},
   "outputs": [
    {
     "name": "stdout",
     "output_type": "stream",
     "text": [
      "Avengers: Infinity War ; \n",
      "Action, Adventure, Sci-Fi            \n",
      "Black Panther ; \n",
      "Action, Adventure, Sci-Fi            \n",
      "Deadpool 2 ; \n",
      "Action, Adventure, Comedy            \n"
     ]
    }
   ],
   "source": [
    "from bs4 import BeautifulSoup as b\n",
    "import requests as r\n",
    "response = r.get(\"https://www.imdb.com/search/title/?release_date=2018&sort=num_votes,desc&page=1&ref_=adv_nxt\")\n",
    "html = response.text\n",
    "data = b(html,'html.parser')\n",
    "data.prettify()\n",
    "titles_class=data.find_all(class_='loadlate')\n",
    "genre_class= data.find_all(class_='genre')\n",
    "for i in range(3):\n",
    "    print(titles_class[i]['alt'],\";\",genre_class[i].string)"
   ]
  },
  {
   "cell_type": "code",
   "execution_count": null,
   "metadata": {},
   "outputs": [],
   "source": []
  }
 ],
 "metadata": {
  "kernelspec": {
   "display_name": "Python 3",
   "language": "python",
   "name": "python3"
  },
  "language_info": {
   "codemirror_mode": {
    "name": "ipython",
    "version": 3
   },
   "file_extension": ".py",
   "mimetype": "text/x-python",
   "name": "python",
   "nbconvert_exporter": "python",
   "pygments_lexer": "ipython3",
   "version": "3.8.3"
  }
 },
 "nbformat": 4,
 "nbformat_minor": 4
}
